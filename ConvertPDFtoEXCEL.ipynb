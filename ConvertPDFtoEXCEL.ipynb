{
  "nbformat": 4,
  "nbformat_minor": 0,
  "metadata": {
    "colab": {
      "name": "ConvertPDFtoEXCEL.ipynb",
      "provenance": [],
      "collapsed_sections": [],
      "authorship_tag": "ABX9TyOADTUfjgeJYSphdwblJ/iM",
      "include_colab_link": true
    },
    "kernelspec": {
      "name": "python3",
      "display_name": "Python 3"
    },
    "language_info": {
      "name": "python"
    }
  },
  "cells": [
    {
      "cell_type": "markdown",
      "metadata": {
        "id": "view-in-github",
        "colab_type": "text"
      },
      "source": [
        "<a href=\"https://colab.research.google.com/github/lucianorbr/ApplicationGo/blob/master/ConvertPDFtoEXCEL.ipynb\" target=\"_parent\"><img src=\"https://colab.research.google.com/assets/colab-badge.svg\" alt=\"Open In Colab\"/></a>"
      ]
    },
    {
      "cell_type": "code",
      "source": [
        "import os\n",
        "import requests"
      ],
      "metadata": {
        "id": "gU7xSVGz32na"
      },
      "execution_count": 4,
      "outputs": []
    },
    {
      "cell_type": "code",
      "source": [
        "API_KEY = \"ribeiro.lucyanno@live.com_2943e86aa04bfb25580a718258328895f0a775ceb52a061bd5a6dfd5ec0678d6028b7d9a\""
      ],
      "metadata": {
        "id": "m4RDY-Fy36T2"
      },
      "execution_count": 5,
      "outputs": []
    },
    {
      "cell_type": "code",
      "source": [
        "BASE_URL = \"https://api.pdf.co/v1\""
      ],
      "metadata": {
        "id": "igSQD6rQ37LV"
      },
      "execution_count": 6,
      "outputs": []
    },
    {
      "cell_type": "code",
      "source": [
        "SourceFile = \"/content/ações - Março_2022 - Automoveis (GERAL).pdf\" "
      ],
      "metadata": {
        "id": "r4cRA0ey4B8X"
      },
      "execution_count": 31,
      "outputs": []
    },
    {
      "cell_type": "code",
      "source": [
        "Pages = \"\"\n",
        "Password = \"\"\n",
        "DestinationFile = \"/content/ações - Março_2022 - Automoveis (GERAL).xlsx\""
      ],
      "metadata": {
        "id": "IAKrnKcI4Vbw"
      },
      "execution_count": 32,
      "outputs": []
    },
    {
      "cell_type": "code",
      "source": [
        "def main(args=None):\n",
        "    uploadedFileUrl = uploadFile(SourceFile)\n",
        "    if (uploadedFileUrl != None):\n",
        "        convertPdfToExcel(uploadedFileUrl, DestinationFile)\n",
        "\n",
        "\n",
        "def convertPdfToExcel(uploadedFileUrl, destinationFile):\n",
        "    \"\"\"Converts PDF To Excel using PDF.co Web API\"\"\"\n",
        "    profiles = '{ \"profiles\": [{ \"profile1\": { \"RotationAngle\": 1 } } ] }'\n",
        "\n",
        "    # Prepare requests params as JSON\n",
        "    # See documentation: https://apidocs.pdf.co\n",
        "    parameters = {}\n",
        "    parameters[\"name\"] = os.path.basename(destinationFile)\n",
        "    parameters[\"password\"] = Password\n",
        "    parameters[\"pages\"] = Pages\n",
        "    parameters[\"url\"] = uploadedFileUrl\n",
        "    parameters[\"profiles\"] = profiles\n",
        "\n",
        "    # Prepare URL for 'PDF To Xlsx' API request\n",
        "    url = \"{}/pdf/convert/to/xlsx\".format(BASE_URL)\n",
        "\n",
        "    # Execute request and get response as JSON\n",
        "    response = requests.post(url, data=parameters, headers={\"x-api-key\": API_KEY})\n",
        "    if (response.status_code == 200):\n",
        "        json = response.json()\n",
        "\n",
        "        if json[\"error\"] == False:\n",
        "            #  Get URL of result file\n",
        "            resultFileUrl = json[\"url\"]\n",
        "            # Download result file\n",
        "            r = requests.get(resultFileUrl, stream=True)\n",
        "            if (r.status_code == 200):\n",
        "                with open(destinationFile, 'wb') as file:\n",
        "                    for chunk in r:\n",
        "                        file.write(chunk)\n",
        "                print(f\"Result file saved as \\\"{destinationFile}\\\" file.\")\n",
        "            else:\n",
        "                print(f\"Request error: {response.status_code} {response.reason}\")\n",
        "        else:\n",
        "            # Show service reported error\n",
        "            print(json[\"message\"])\n",
        "    else:\n",
        "        print(f\"Request error: {response.status_code} {response.reason}\")\n",
        "\n",
        "\n",
        "def uploadFile(fileName):\n",
        "    \"\"\"Uploads file to the cloud\"\"\"\n",
        "\n",
        "    # 1. RETRIEVE PRESIGNED URL TO UPLOAD FILE.\n",
        "\n",
        "    # Prepare URL for 'Get Presigned URL' API request\n",
        "    url = \"{}/file/upload/get-presigned-url?contenttype=application/octet-stream&name={}\".format(\n",
        "        BASE_URL, os.path.basename(fileName))\n",
        "\n",
        "    # Execute request and get response as JSON\n",
        "    response = requests.get(url, headers={\"x-api-key\": API_KEY})\n",
        "    if (response.status_code == 200):\n",
        "        json = response.json()\n",
        "\n",
        "        if json[\"error\"] == False:\n",
        "            # URL to use for file upload\n",
        "            uploadUrl = json[\"presignedUrl\"]\n",
        "            # URL for future reference\n",
        "            uploadedFileUrl = json[\"url\"]\n",
        "\n",
        "            # 2. UPLOAD FILE TO CLOUD.\n",
        "            with open(fileName, 'rb') as file:\n",
        "                requests.put(uploadUrl, data=file,\n",
        "                             headers={\"x-api-key\": API_KEY, \"content-type\": \"application/octet-stream\"})\n",
        "\n",
        "            return uploadedFileUrl\n",
        "        else:\n",
        "            # Show service reported error\n",
        "            print(json[\"message\"])\n",
        "    else:\n",
        "        print(f\"Request error: {response.status_code} {response.reason}\")\n",
        "\n",
        "    return None\n"
      ],
      "metadata": {
        "id": "uJMgobY75dpp"
      },
      "execution_count": 33,
      "outputs": []
    },
    {
      "cell_type": "code",
      "source": [
        "if __name__ == '__main__':\n",
        "    main()"
      ],
      "metadata": {
        "colab": {
          "base_uri": "https://localhost:8080/"
        },
        "id": "uMyALVaW6-dR",
        "outputId": "3e0647af-355d-4cae-a41c-911eba915586"
      },
      "execution_count": 34,
      "outputs": [
        {
          "output_type": "stream",
          "name": "stdout",
          "text": [
            "Result file saved as \"/content/ações - Março_2022 - Automoveis (GERAL).xlsx\" file.\n"
          ]
        }
      ]
    }
  ]
}